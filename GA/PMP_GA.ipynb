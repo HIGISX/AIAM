{
 "cells": [
  {
   "cell_type": "markdown",
   "metadata": {
    "pycharm": {
     "name": "#%% md\n"
    }
   },
   "source": [
    "## PMP solved by Genetic Algorithm (GA)"
   ]
  },
  {
   "cell_type": "code",
   "execution_count": 1,
   "metadata": {
    "pycharm": {
     "name": "#%%\n"
    }
   },
   "outputs": [],
   "source": [
    "from GA import GeneticAlgorithm\n",
    "import random\n",
    "import numpy as np\n",
    "from matplotlib import pyplot as plt"
   ]
  },
  {
   "cell_type": "markdown",
   "metadata": {
    "pycharm": {
     "name": "#%% md\n"
    }
   },
   "source": [
    "## Load the real-world datasets"
   ]
  },
  {
   "cell_type": "code",
   "execution_count": 2,
   "metadata": {
    "pycharm": {
     "name": "#%%\n"
    }
   },
   "outputs": [],
   "source": [
    "import geopandas as gpd\n",
    "import pandas as pd\n",
    "import numpy as np\n",
    "import matplotlib.pyplot as plt"
   ]
  },
  {
   "cell_type": "markdown",
   "metadata": {
    "pycharm": {
     "name": "#%% md\n"
    }
   },
   "source": [
    "### LandScan Population Distribution\n",
    "LandScan data is preprocessed and excluded the regions with no night-time population. Each point in this dataset represents the population aggregated to the centroid of the corresponding grid cell."
   ]
  },
  {
   "cell_type": "code",
   "execution_count": 3,
   "metadata": {
    "pycharm": {
     "name": "#%%\n"
    }
   },
   "outputs": [
    {
     "name": "stdout",
     "output_type": "stream",
     "text": [
      "Wall time: 174 ms\n"
     ]
    },
    {
     "data": {
      "text/html": [
       "<div>\n",
       "<style scoped>\n",
       "    .dataframe tbody tr th:only-of-type {\n",
       "        vertical-align: middle;\n",
       "    }\n",
       "\n",
       "    .dataframe tbody tr th {\n",
       "        vertical-align: top;\n",
       "    }\n",
       "\n",
       "    .dataframe thead th {\n",
       "        text-align: right;\n",
       "    }\n",
       "</style>\n",
       "<table border=\"1\" class=\"dataframe\">\n",
       "  <thead>\n",
       "    <tr style=\"text-align: right;\">\n",
       "      <th></th>\n",
       "      <th>经度84</th>\n",
       "      <th>纬度84</th>\n",
       "      <th>POINT_X</th>\n",
       "      <th>POINT_Y</th>\n",
       "      <th>NEAR_FID</th>\n",
       "      <th>NEAR_DIST</th>\n",
       "      <th>NEAR_X</th>\n",
       "      <th>NEAR_Y</th>\n",
       "      <th>geometry</th>\n",
       "    </tr>\n",
       "  </thead>\n",
       "  <tbody>\n",
       "    <tr>\n",
       "      <th>0</th>\n",
       "      <td>116.268247</td>\n",
       "      <td>39.970932</td>\n",
       "      <td>950178.402354</td>\n",
       "      <td>4.439620e+06</td>\n",
       "      <td>53</td>\n",
       "      <td>822.227299</td>\n",
       "      <td>950742.699785</td>\n",
       "      <td>4.439022e+06</td>\n",
       "      <td>POINT (950178.402 4439619.552)</td>\n",
       "    </tr>\n",
       "    <tr>\n",
       "      <th>1</th>\n",
       "      <td>116.278045</td>\n",
       "      <td>39.965943</td>\n",
       "      <td>951048.965144</td>\n",
       "      <td>4.439115e+06</td>\n",
       "      <td>53</td>\n",
       "      <td>320.168328</td>\n",
       "      <td>950742.699785</td>\n",
       "      <td>4.439022e+06</td>\n",
       "      <td>POINT (951048.965 4439114.857)</td>\n",
       "    </tr>\n",
       "    <tr>\n",
       "      <th>2</th>\n",
       "      <td>116.216655</td>\n",
       "      <td>39.996868</td>\n",
       "      <td>945598.585992</td>\n",
       "      <td>4.442241e+06</td>\n",
       "      <td>45</td>\n",
       "      <td>2297.119273</td>\n",
       "      <td>947792.780208</td>\n",
       "      <td>4.442921e+06</td>\n",
       "      <td>POINT (945598.586 4442241.439)</td>\n",
       "    </tr>\n",
       "  </tbody>\n",
       "</table>\n",
       "</div>"
      ],
      "text/plain": [
       "         经度84       纬度84        POINT_X       POINT_Y  NEAR_FID    NEAR_DIST  \\\n",
       "0  116.268247  39.970932  950178.402354  4.439620e+06        53   822.227299   \n",
       "1  116.278045  39.965943  951048.965144  4.439115e+06        53   320.168328   \n",
       "2  116.216655  39.996868  945598.585992  4.442241e+06        45  2297.119273   \n",
       "\n",
       "          NEAR_X        NEAR_Y                        geometry  \n",
       "0  950742.699785  4.439022e+06  POINT (950178.402 4439619.552)  \n",
       "1  950742.699785  4.439022e+06  POINT (951048.965 4439114.857)  \n",
       "2  947792.780208  4.442921e+06  POINT (945598.586 4442241.439)  "
      ]
     },
     "execution_count": 3,
     "metadata": {},
     "output_type": "execute_result"
    }
   ],
   "source": [
    "%%time\n",
    "ls = gpd.read_file(\"./real/haidian_community_pro.shp\")\n",
    "ls['POINT_X'] = ls.geometry.x\n",
    "ls['POINT_Y'] = ls.geometry.y\n",
    "ls.head(3)"
   ]
  },
  {
   "cell_type": "code",
   "execution_count": 4,
   "metadata": {
    "pycharm": {
     "name": "#%%\n"
    }
   },
   "outputs": [
    {
     "data": {
      "text/html": [
       "<div>\n",
       "<style scoped>\n",
       "    .dataframe tbody tr th:only-of-type {\n",
       "        vertical-align: middle;\n",
       "    }\n",
       "\n",
       "    .dataframe tbody tr th {\n",
       "        vertical-align: top;\n",
       "    }\n",
       "\n",
       "    .dataframe thead th {\n",
       "        text-align: right;\n",
       "    }\n",
       "</style>\n",
       "<table border=\"1\" class=\"dataframe\">\n",
       "  <thead>\n",
       "    <tr style=\"text-align: right;\">\n",
       "      <th></th>\n",
       "      <th>经度84</th>\n",
       "      <th>纬度84</th>\n",
       "      <th>POINT_X</th>\n",
       "      <th>POINT_Y</th>\n",
       "      <th>geometry</th>\n",
       "    </tr>\n",
       "  </thead>\n",
       "  <tbody>\n",
       "    <tr>\n",
       "      <th>0</th>\n",
       "      <td>116.257490</td>\n",
       "      <td>40.023362</td>\n",
       "      <td>948914.176201</td>\n",
       "      <td>4.445391e+06</td>\n",
       "      <td>POINT (948914.176 4445390.949)</td>\n",
       "    </tr>\n",
       "    <tr>\n",
       "      <th>1</th>\n",
       "      <td>116.287560</td>\n",
       "      <td>39.993906</td>\n",
       "      <td>951677.729470</td>\n",
       "      <td>4.442270e+06</td>\n",
       "      <td>POINT (951677.729 4442270.340)</td>\n",
       "    </tr>\n",
       "    <tr>\n",
       "      <th>2</th>\n",
       "      <td>116.353798</td>\n",
       "      <td>39.981356</td>\n",
       "      <td>957422.791546</td>\n",
       "      <td>4.441215e+06</td>\n",
       "      <td>POINT (957422.792 4441214.652)</td>\n",
       "    </tr>\n",
       "  </tbody>\n",
       "</table>\n",
       "</div>"
      ],
      "text/plain": [
       "         经度84       纬度84        POINT_X       POINT_Y  \\\n",
       "0  116.257490  40.023362  948914.176201  4.445391e+06   \n",
       "1  116.287560  39.993906  951677.729470  4.442270e+06   \n",
       "2  116.353798  39.981356  957422.791546  4.441215e+06   \n",
       "\n",
       "                         geometry  \n",
       "0  POINT (948914.176 4445390.949)  \n",
       "1  POINT (951677.729 4442270.340)  \n",
       "2  POINT (957422.792 4441214.652)  "
      ]
     },
     "execution_count": 4,
     "metadata": {},
     "output_type": "execute_result"
    }
   ],
   "source": [
    "sitedf = gpd.read_file(\"./real/haidian_hospital_pro.shp\")\n",
    "sitedf['POINT_X'] = sitedf.geometry.x\n",
    "sitedf['POINT_Y'] = sitedf.geometry.y\n",
    "# sites = np.array(sitedf[['NORM_X', 'NORM_Y']], dtype=np.float64)\n",
    "# print(\"The number of billboards in Seattle area is \", len(sitedf))\n",
    "sitedf.head(3)"
   ]
  },
  {
   "cell_type": "markdown",
   "metadata": {
    "pycharm": {
     "name": "#%% md\n"
    }
   },
   "source": [
    "## Normalization"
   ]
  },
  {
   "cell_type": "code",
   "execution_count": 5,
   "metadata": {
    "pycharm": {
     "name": "#%%\n"
    }
   },
   "outputs": [],
   "source": [
    "def Normalization(x, y):\n",
    "    max_x, max_y = np.max(x), np.max(y)\n",
    "    min_x, min_y = np.min(x), np.min(y)\n",
    "    S_x = (max_x-min_x)\n",
    "    S_y = (max_y-min_y)\n",
    "    S = max(S_x, S_y)\n",
    "    new_x, new_y = (x-min_x)/S, (y-min_y)/S\n",
    "    data_xy = np.vstack((new_x, new_y))\n",
    "    Data = data_xy.T\n",
    "    return new_x, new_y, S"
   ]
  },
  {
   "cell_type": "code",
   "execution_count": 6,
   "metadata": {
    "pycharm": {
     "name": "#%%\n"
    }
   },
   "outputs": [],
   "source": [
    "ls_X = np.array(ls['POINT_X'])\n",
    "ls_Y = np.array(ls['POINT_Y'])\n",
    "bbs_X = np.array(sitedf['POINT_X'])\n",
    "bbs_Y = np.array(sitedf['POINT_Y'])\n",
    "X = np.concatenate([ls_X, bbs_X])\n",
    "Y = np.concatenate([ls_Y, bbs_Y])\n",
    "NORM_X, NORM_Y, S = Normalization(X, Y)\n",
    "ls['NORM_X'] = NORM_X[:len(ls)]\n",
    "ls['NORM_Y'] = NORM_Y[:len(ls)]\n",
    "sitedf['NORM_X'] = NORM_X[len(ls):]\n",
    "sitedf['NORM_Y'] = NORM_Y[len(ls):]"
   ]
  },
  {
   "cell_type": "code",
   "execution_count": 7,
   "metadata": {
    "pycharm": {
     "name": "#%%\n"
    }
   },
   "outputs": [],
   "source": [
    "users = np.array(ls[['NORM_X', 'NORM_Y']])\n",
    "facilities = np.array(sitedf[['NORM_X', 'NORM_Y']])\n",
    "p = 15\n",
    "dist = np.sum((users[:, np.newaxis, :] - facilities[np.newaxis, :, :]) ** 2, axis=-1) ** 0.5"
   ]
  },
  {
   "cell_type": "code",
   "execution_count": 10,
   "metadata": {
    "pycharm": {
     "name": "#%%\n"
    },
    "scrolled": true
   },
   "outputs": [
    {
     "name": "stdout",
     "output_type": "stream",
     "text": [
      "Current top solution: [30, 1, 35, 8, 18, 47, 5, 12, 77, 23, 56, 70, 75, 26, 63] f=182\n",
      "Hypermutation...\n",
      "Hypermutation...\n",
      "Hypermutation...\n",
      "\n",
      "Final top solution: [50, 66, 73, 47, 20, 19, 61, 24, 39, 43, 55, 18, 0, 7, 26] f=153\n",
      "Time: 00:00:44.8655\n",
      "The Set of centers are: [50, 66, 73, 47, 20, 19, 61, 24, 39, 43, 55, 18, 0, 7, 26]\n",
      "The objective is: 153.55013894308723\n"
     ]
    }
   ],
   "source": [
    "genetic = GeneticAlgorithm(len(ls), len(sitedf), p, dist)\n",
    "genetic.optimize()\n",
    "obj = genetic.top_chromosome.fitness\n",
    "centers = genetic.top_chromosome.content\n",
    "time = genetic.time\n",
    "\n",
    "print(\"The Set of centers are: %s\" % centers)\n",
    "print(\"The objective is: %s\" % obj)\n"
   ]
  },
  {
   "cell_type": "code",
   "execution_count": null,
   "metadata": {},
   "outputs": [],
   "source": []
  }
 ],
 "metadata": {
  "kernelspec": {
   "display_name": "Python 3 (ipykernel)",
   "language": "python",
   "name": "python3"
  },
  "language_info": {
   "codemirror_mode": {
    "name": "ipython",
    "version": 3
   },
   "file_extension": ".py",
   "mimetype": "text/x-python",
   "name": "python",
   "nbconvert_exporter": "python",
   "pygments_lexer": "ipython3",
   "version": "3.7.16"
  },
  "toc": {
   "base_numbering": 1,
   "nav_menu": {},
   "number_sections": true,
   "sideBar": true,
   "skip_h1_title": false,
   "title_cell": "Table of Contents",
   "title_sidebar": "Contents",
   "toc_cell": false,
   "toc_position": {},
   "toc_section_display": true,
   "toc_window_display": false
  }
 },
 "nbformat": 4,
 "nbformat_minor": 1
}
